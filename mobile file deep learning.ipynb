{
 "cells": [
  {
   "cell_type": "code",
   "execution_count": 1,
   "id": "b36f5732",
   "metadata": {},
   "outputs": [],
   "source": [
    "import pandas as pd\n",
    "import numpy as np"
   ]
  },
  {
   "cell_type": "code",
   "execution_count": 2,
   "id": "36001862",
   "metadata": {},
   "outputs": [],
   "source": [
    "df=pd.read_csv('Mobile.csv')"
   ]
  },
  {
   "cell_type": "code",
   "execution_count": 3,
   "id": "0f981a50",
   "metadata": {},
   "outputs": [
    {
     "data": {
      "text/html": [
       "<div>\n",
       "<style scoped>\n",
       "    .dataframe tbody tr th:only-of-type {\n",
       "        vertical-align: middle;\n",
       "    }\n",
       "\n",
       "    .dataframe tbody tr th {\n",
       "        vertical-align: top;\n",
       "    }\n",
       "\n",
       "    .dataframe thead th {\n",
       "        text-align: right;\n",
       "    }\n",
       "</style>\n",
       "<table border=\"1\" class=\"dataframe\">\n",
       "  <thead>\n",
       "    <tr style=\"text-align: right;\">\n",
       "      <th></th>\n",
       "      <th>battery_power</th>\n",
       "      <th>blue</th>\n",
       "      <th>clock_speed</th>\n",
       "      <th>dual_sim</th>\n",
       "      <th>fc</th>\n",
       "      <th>four_g</th>\n",
       "      <th>int_memory</th>\n",
       "      <th>m_dep</th>\n",
       "      <th>mobile_wt</th>\n",
       "      <th>n_cores</th>\n",
       "      <th>...</th>\n",
       "      <th>px_height</th>\n",
       "      <th>px_width</th>\n",
       "      <th>ram</th>\n",
       "      <th>sc_h</th>\n",
       "      <th>sc_w</th>\n",
       "      <th>talk_time</th>\n",
       "      <th>three_g</th>\n",
       "      <th>touch_screen</th>\n",
       "      <th>wifi</th>\n",
       "      <th>price_range</th>\n",
       "    </tr>\n",
       "  </thead>\n",
       "  <tbody>\n",
       "    <tr>\n",
       "      <th>0</th>\n",
       "      <td>842.0</td>\n",
       "      <td>0.0</td>\n",
       "      <td>2.2</td>\n",
       "      <td>0.0</td>\n",
       "      <td>1.0</td>\n",
       "      <td>0.0</td>\n",
       "      <td>7.0</td>\n",
       "      <td>0.6</td>\n",
       "      <td>188.0</td>\n",
       "      <td>2.0</td>\n",
       "      <td>...</td>\n",
       "      <td>20.0</td>\n",
       "      <td>756.0</td>\n",
       "      <td>2549.0</td>\n",
       "      <td>9.0</td>\n",
       "      <td>7.0</td>\n",
       "      <td>19.0</td>\n",
       "      <td>0.0</td>\n",
       "      <td>0.0</td>\n",
       "      <td>1.0</td>\n",
       "      <td>1.0</td>\n",
       "    </tr>\n",
       "    <tr>\n",
       "      <th>1</th>\n",
       "      <td>1021.0</td>\n",
       "      <td>1.0</td>\n",
       "      <td>0.5</td>\n",
       "      <td>1.0</td>\n",
       "      <td>0.0</td>\n",
       "      <td>1.0</td>\n",
       "      <td>53.0</td>\n",
       "      <td>0.7</td>\n",
       "      <td>136.0</td>\n",
       "      <td>3.0</td>\n",
       "      <td>...</td>\n",
       "      <td>905.0</td>\n",
       "      <td>1988.0</td>\n",
       "      <td>2631.0</td>\n",
       "      <td>17.0</td>\n",
       "      <td>3.0</td>\n",
       "      <td>7.0</td>\n",
       "      <td>1.0</td>\n",
       "      <td>1.0</td>\n",
       "      <td>0.0</td>\n",
       "      <td>2.0</td>\n",
       "    </tr>\n",
       "    <tr>\n",
       "      <th>2</th>\n",
       "      <td>563.0</td>\n",
       "      <td>1.0</td>\n",
       "      <td>0.5</td>\n",
       "      <td>1.0</td>\n",
       "      <td>2.0</td>\n",
       "      <td>1.0</td>\n",
       "      <td>41.0</td>\n",
       "      <td>0.9</td>\n",
       "      <td>145.0</td>\n",
       "      <td>5.0</td>\n",
       "      <td>...</td>\n",
       "      <td>1263.0</td>\n",
       "      <td>1716.0</td>\n",
       "      <td>2603.0</td>\n",
       "      <td>11.0</td>\n",
       "      <td>2.0</td>\n",
       "      <td>9.0</td>\n",
       "      <td>1.0</td>\n",
       "      <td>1.0</td>\n",
       "      <td>0.0</td>\n",
       "      <td>2.0</td>\n",
       "    </tr>\n",
       "    <tr>\n",
       "      <th>3</th>\n",
       "      <td>615.0</td>\n",
       "      <td>1.0</td>\n",
       "      <td>2.5</td>\n",
       "      <td>0.0</td>\n",
       "      <td>0.0</td>\n",
       "      <td>0.0</td>\n",
       "      <td>10.0</td>\n",
       "      <td>0.8</td>\n",
       "      <td>131.0</td>\n",
       "      <td>6.0</td>\n",
       "      <td>...</td>\n",
       "      <td>1216.0</td>\n",
       "      <td>1786.0</td>\n",
       "      <td>2769.0</td>\n",
       "      <td>16.0</td>\n",
       "      <td>8.0</td>\n",
       "      <td>11.0</td>\n",
       "      <td>1.0</td>\n",
       "      <td>0.0</td>\n",
       "      <td>0.0</td>\n",
       "      <td>2.0</td>\n",
       "    </tr>\n",
       "    <tr>\n",
       "      <th>4</th>\n",
       "      <td>1821.0</td>\n",
       "      <td>1.0</td>\n",
       "      <td>1.2</td>\n",
       "      <td>0.0</td>\n",
       "      <td>13.0</td>\n",
       "      <td>1.0</td>\n",
       "      <td>44.0</td>\n",
       "      <td>0.6</td>\n",
       "      <td>141.0</td>\n",
       "      <td>2.0</td>\n",
       "      <td>...</td>\n",
       "      <td>1208.0</td>\n",
       "      <td>1212.0</td>\n",
       "      <td>1411.0</td>\n",
       "      <td>8.0</td>\n",
       "      <td>2.0</td>\n",
       "      <td>15.0</td>\n",
       "      <td>1.0</td>\n",
       "      <td>1.0</td>\n",
       "      <td>0.0</td>\n",
       "      <td>1.0</td>\n",
       "    </tr>\n",
       "    <tr>\n",
       "      <th>...</th>\n",
       "      <td>...</td>\n",
       "      <td>...</td>\n",
       "      <td>...</td>\n",
       "      <td>...</td>\n",
       "      <td>...</td>\n",
       "      <td>...</td>\n",
       "      <td>...</td>\n",
       "      <td>...</td>\n",
       "      <td>...</td>\n",
       "      <td>...</td>\n",
       "      <td>...</td>\n",
       "      <td>...</td>\n",
       "      <td>...</td>\n",
       "      <td>...</td>\n",
       "      <td>...</td>\n",
       "      <td>...</td>\n",
       "      <td>...</td>\n",
       "      <td>...</td>\n",
       "      <td>...</td>\n",
       "      <td>...</td>\n",
       "      <td>...</td>\n",
       "    </tr>\n",
       "    <tr>\n",
       "      <th>1940</th>\n",
       "      <td>NaN</td>\n",
       "      <td>NaN</td>\n",
       "      <td>NaN</td>\n",
       "      <td>NaN</td>\n",
       "      <td>NaN</td>\n",
       "      <td>NaN</td>\n",
       "      <td>NaN</td>\n",
       "      <td>NaN</td>\n",
       "      <td>NaN</td>\n",
       "      <td>NaN</td>\n",
       "      <td>...</td>\n",
       "      <td>NaN</td>\n",
       "      <td>NaN</td>\n",
       "      <td>NaN</td>\n",
       "      <td>NaN</td>\n",
       "      <td>NaN</td>\n",
       "      <td>NaN</td>\n",
       "      <td>NaN</td>\n",
       "      <td>NaN</td>\n",
       "      <td>NaN</td>\n",
       "      <td>NaN</td>\n",
       "    </tr>\n",
       "    <tr>\n",
       "      <th>1941</th>\n",
       "      <td>NaN</td>\n",
       "      <td>NaN</td>\n",
       "      <td>NaN</td>\n",
       "      <td>NaN</td>\n",
       "      <td>NaN</td>\n",
       "      <td>NaN</td>\n",
       "      <td>NaN</td>\n",
       "      <td>NaN</td>\n",
       "      <td>NaN</td>\n",
       "      <td>NaN</td>\n",
       "      <td>...</td>\n",
       "      <td>NaN</td>\n",
       "      <td>NaN</td>\n",
       "      <td>NaN</td>\n",
       "      <td>NaN</td>\n",
       "      <td>NaN</td>\n",
       "      <td>NaN</td>\n",
       "      <td>NaN</td>\n",
       "      <td>NaN</td>\n",
       "      <td>NaN</td>\n",
       "      <td>NaN</td>\n",
       "    </tr>\n",
       "    <tr>\n",
       "      <th>1942</th>\n",
       "      <td>1279.0</td>\n",
       "      <td>1.0</td>\n",
       "      <td>2.5</td>\n",
       "      <td>0.0</td>\n",
       "      <td>5.0</td>\n",
       "      <td>1.0</td>\n",
       "      <td>7.0</td>\n",
       "      <td>0.5</td>\n",
       "      <td>105.0</td>\n",
       "      <td>6.0</td>\n",
       "      <td>...</td>\n",
       "      <td>560.0</td>\n",
       "      <td>1633.0</td>\n",
       "      <td>1150.0</td>\n",
       "      <td>7.0</td>\n",
       "      <td>2.0</td>\n",
       "      <td>7.0</td>\n",
       "      <td>1.0</td>\n",
       "      <td>0.0</td>\n",
       "      <td>0.0</td>\n",
       "      <td>1.0</td>\n",
       "    </tr>\n",
       "    <tr>\n",
       "      <th>1943</th>\n",
       "      <td>719.0</td>\n",
       "      <td>0.0</td>\n",
       "      <td>2.9</td>\n",
       "      <td>0.0</td>\n",
       "      <td>7.0</td>\n",
       "      <td>0.0</td>\n",
       "      <td>6.0</td>\n",
       "      <td>0.7</td>\n",
       "      <td>102.0</td>\n",
       "      <td>6.0</td>\n",
       "      <td>...</td>\n",
       "      <td>405.0</td>\n",
       "      <td>1141.0</td>\n",
       "      <td>841.0</td>\n",
       "      <td>9.0</td>\n",
       "      <td>1.0</td>\n",
       "      <td>2.0</td>\n",
       "      <td>1.0</td>\n",
       "      <td>0.0</td>\n",
       "      <td>0.0</td>\n",
       "      <td>0.0</td>\n",
       "    </tr>\n",
       "    <tr>\n",
       "      <th>1944</th>\n",
       "      <td>544.0</td>\n",
       "      <td>1.0</td>\n",
       "      <td>0.5</td>\n",
       "      <td>1.0</td>\n",
       "      <td>2.0</td>\n",
       "      <td>1.0</td>\n",
       "      <td>7.0</td>\n",
       "      <td>0.2</td>\n",
       "      <td>129.0</td>\n",
       "      <td>5.0</td>\n",
       "      <td>...</td>\n",
       "      <td>227.0</td>\n",
       "      <td>610.0</td>\n",
       "      <td>1675.0</td>\n",
       "      <td>13.0</td>\n",
       "      <td>4.0</td>\n",
       "      <td>17.0</td>\n",
       "      <td>1.0</td>\n",
       "      <td>1.0</td>\n",
       "      <td>0.0</td>\n",
       "      <td>0.0</td>\n",
       "    </tr>\n",
       "  </tbody>\n",
       "</table>\n",
       "<p>1945 rows × 21 columns</p>\n",
       "</div>"
      ],
      "text/plain": [
       "      battery_power  blue  clock_speed  dual_sim    fc  four_g  int_memory  \\\n",
       "0             842.0   0.0          2.2       0.0   1.0     0.0         7.0   \n",
       "1            1021.0   1.0          0.5       1.0   0.0     1.0        53.0   \n",
       "2             563.0   1.0          0.5       1.0   2.0     1.0        41.0   \n",
       "3             615.0   1.0          2.5       0.0   0.0     0.0        10.0   \n",
       "4            1821.0   1.0          1.2       0.0  13.0     1.0        44.0   \n",
       "...             ...   ...          ...       ...   ...     ...         ...   \n",
       "1940            NaN   NaN          NaN       NaN   NaN     NaN         NaN   \n",
       "1941            NaN   NaN          NaN       NaN   NaN     NaN         NaN   \n",
       "1942         1279.0   1.0          2.5       0.0   5.0     1.0         7.0   \n",
       "1943          719.0   0.0          2.9       0.0   7.0     0.0         6.0   \n",
       "1944          544.0   1.0          0.5       1.0   2.0     1.0         7.0   \n",
       "\n",
       "      m_dep  mobile_wt  n_cores  ...  px_height  px_width     ram  sc_h  sc_w  \\\n",
       "0       0.6      188.0      2.0  ...       20.0     756.0  2549.0   9.0   7.0   \n",
       "1       0.7      136.0      3.0  ...      905.0    1988.0  2631.0  17.0   3.0   \n",
       "2       0.9      145.0      5.0  ...     1263.0    1716.0  2603.0  11.0   2.0   \n",
       "3       0.8      131.0      6.0  ...     1216.0    1786.0  2769.0  16.0   8.0   \n",
       "4       0.6      141.0      2.0  ...     1208.0    1212.0  1411.0   8.0   2.0   \n",
       "...     ...        ...      ...  ...        ...       ...     ...   ...   ...   \n",
       "1940    NaN        NaN      NaN  ...        NaN       NaN     NaN   NaN   NaN   \n",
       "1941    NaN        NaN      NaN  ...        NaN       NaN     NaN   NaN   NaN   \n",
       "1942    0.5      105.0      6.0  ...      560.0    1633.0  1150.0   7.0   2.0   \n",
       "1943    0.7      102.0      6.0  ...      405.0    1141.0   841.0   9.0   1.0   \n",
       "1944    0.2      129.0      5.0  ...      227.0     610.0  1675.0  13.0   4.0   \n",
       "\n",
       "      talk_time  three_g  touch_screen  wifi  price_range  \n",
       "0          19.0      0.0           0.0   1.0          1.0  \n",
       "1           7.0      1.0           1.0   0.0          2.0  \n",
       "2           9.0      1.0           1.0   0.0          2.0  \n",
       "3          11.0      1.0           0.0   0.0          2.0  \n",
       "4          15.0      1.0           1.0   0.0          1.0  \n",
       "...         ...      ...           ...   ...          ...  \n",
       "1940        NaN      NaN           NaN   NaN          NaN  \n",
       "1941        NaN      NaN           NaN   NaN          NaN  \n",
       "1942        7.0      1.0           0.0   0.0          1.0  \n",
       "1943        2.0      1.0           0.0   0.0          0.0  \n",
       "1944       17.0      1.0           1.0   0.0          0.0  \n",
       "\n",
       "[1945 rows x 21 columns]"
      ]
     },
     "execution_count": 3,
     "metadata": {},
     "output_type": "execute_result"
    }
   ],
   "source": [
    "df"
   ]
  },
  {
   "cell_type": "code",
   "execution_count": 4,
   "id": "47484a4a",
   "metadata": {},
   "outputs": [
    {
     "data": {
      "text/plain": [
       "Index(['battery_power', 'blue', 'clock_speed', 'dual_sim', 'fc', 'four_g',\n",
       "       'int_memory', 'm_dep', 'mobile_wt', 'n_cores', 'pc', 'px_height',\n",
       "       'px_width', 'ram', 'sc_h', 'sc_w', 'talk_time', 'three_g',\n",
       "       'touch_screen', 'wifi', 'price_range'],\n",
       "      dtype='object')"
      ]
     },
     "execution_count": 4,
     "metadata": {},
     "output_type": "execute_result"
    }
   ],
   "source": [
    "df.columns"
   ]
  },
  {
   "cell_type": "code",
   "execution_count": 5,
   "id": "47f3121f",
   "metadata": {},
   "outputs": [
    {
     "data": {
      "text/plain": [
       "(1945, 21)"
      ]
     },
     "execution_count": 5,
     "metadata": {},
     "output_type": "execute_result"
    }
   ],
   "source": [
    "df.shape"
   ]
  },
  {
   "cell_type": "code",
   "execution_count": 6,
   "id": "93d83bf5",
   "metadata": {},
   "outputs": [
    {
     "name": "stdout",
     "output_type": "stream",
     "text": [
      "<class 'pandas.core.frame.DataFrame'>\n",
      "RangeIndex: 1945 entries, 0 to 1944\n",
      "Data columns (total 21 columns):\n",
      " #   Column         Non-Null Count  Dtype  \n",
      "---  ------         --------------  -----  \n",
      " 0   battery_power  1885 non-null   float64\n",
      " 1   blue           1885 non-null   float64\n",
      " 2   clock_speed    1885 non-null   float64\n",
      " 3   dual_sim       1885 non-null   float64\n",
      " 4   fc             1885 non-null   float64\n",
      " 5   four_g         1885 non-null   float64\n",
      " 6   int_memory     1885 non-null   float64\n",
      " 7   m_dep          1885 non-null   float64\n",
      " 8   mobile_wt      1885 non-null   float64\n",
      " 9   n_cores        1885 non-null   float64\n",
      " 10  pc             1885 non-null   float64\n",
      " 11  px_height      1885 non-null   float64\n",
      " 12  px_width       1885 non-null   float64\n",
      " 13  ram            1885 non-null   float64\n",
      " 14  sc_h           1885 non-null   float64\n",
      " 15  sc_w           1885 non-null   float64\n",
      " 16  talk_time      1885 non-null   float64\n",
      " 17  three_g        1885 non-null   float64\n",
      " 18  touch_screen   1885 non-null   float64\n",
      " 19  wifi           1885 non-null   float64\n",
      " 20  price_range    1885 non-null   float64\n",
      "dtypes: float64(21)\n",
      "memory usage: 319.2 KB\n"
     ]
    }
   ],
   "source": [
    "df.info()"
   ]
  },
  {
   "cell_type": "code",
   "execution_count": 7,
   "id": "b4956985",
   "metadata": {},
   "outputs": [
    {
     "data": {
      "text/html": [
       "<div>\n",
       "<style scoped>\n",
       "    .dataframe tbody tr th:only-of-type {\n",
       "        vertical-align: middle;\n",
       "    }\n",
       "\n",
       "    .dataframe tbody tr th {\n",
       "        vertical-align: top;\n",
       "    }\n",
       "\n",
       "    .dataframe thead th {\n",
       "        text-align: right;\n",
       "    }\n",
       "</style>\n",
       "<table border=\"1\" class=\"dataframe\">\n",
       "  <thead>\n",
       "    <tr style=\"text-align: right;\">\n",
       "      <th></th>\n",
       "      <th>battery_power</th>\n",
       "      <th>blue</th>\n",
       "      <th>clock_speed</th>\n",
       "      <th>dual_sim</th>\n",
       "      <th>fc</th>\n",
       "      <th>four_g</th>\n",
       "      <th>int_memory</th>\n",
       "      <th>m_dep</th>\n",
       "      <th>mobile_wt</th>\n",
       "      <th>n_cores</th>\n",
       "      <th>...</th>\n",
       "      <th>px_height</th>\n",
       "      <th>px_width</th>\n",
       "      <th>ram</th>\n",
       "      <th>sc_h</th>\n",
       "      <th>sc_w</th>\n",
       "      <th>talk_time</th>\n",
       "      <th>three_g</th>\n",
       "      <th>touch_screen</th>\n",
       "      <th>wifi</th>\n",
       "      <th>price_range</th>\n",
       "    </tr>\n",
       "  </thead>\n",
       "  <tbody>\n",
       "    <tr>\n",
       "      <th>1940</th>\n",
       "      <td>NaN</td>\n",
       "      <td>NaN</td>\n",
       "      <td>NaN</td>\n",
       "      <td>NaN</td>\n",
       "      <td>NaN</td>\n",
       "      <td>NaN</td>\n",
       "      <td>NaN</td>\n",
       "      <td>NaN</td>\n",
       "      <td>NaN</td>\n",
       "      <td>NaN</td>\n",
       "      <td>...</td>\n",
       "      <td>NaN</td>\n",
       "      <td>NaN</td>\n",
       "      <td>NaN</td>\n",
       "      <td>NaN</td>\n",
       "      <td>NaN</td>\n",
       "      <td>NaN</td>\n",
       "      <td>NaN</td>\n",
       "      <td>NaN</td>\n",
       "      <td>NaN</td>\n",
       "      <td>NaN</td>\n",
       "    </tr>\n",
       "    <tr>\n",
       "      <th>1941</th>\n",
       "      <td>NaN</td>\n",
       "      <td>NaN</td>\n",
       "      <td>NaN</td>\n",
       "      <td>NaN</td>\n",
       "      <td>NaN</td>\n",
       "      <td>NaN</td>\n",
       "      <td>NaN</td>\n",
       "      <td>NaN</td>\n",
       "      <td>NaN</td>\n",
       "      <td>NaN</td>\n",
       "      <td>...</td>\n",
       "      <td>NaN</td>\n",
       "      <td>NaN</td>\n",
       "      <td>NaN</td>\n",
       "      <td>NaN</td>\n",
       "      <td>NaN</td>\n",
       "      <td>NaN</td>\n",
       "      <td>NaN</td>\n",
       "      <td>NaN</td>\n",
       "      <td>NaN</td>\n",
       "      <td>NaN</td>\n",
       "    </tr>\n",
       "    <tr>\n",
       "      <th>1942</th>\n",
       "      <td>1279.0</td>\n",
       "      <td>1.0</td>\n",
       "      <td>2.5</td>\n",
       "      <td>0.0</td>\n",
       "      <td>5.0</td>\n",
       "      <td>1.0</td>\n",
       "      <td>7.0</td>\n",
       "      <td>0.5</td>\n",
       "      <td>105.0</td>\n",
       "      <td>6.0</td>\n",
       "      <td>...</td>\n",
       "      <td>560.0</td>\n",
       "      <td>1633.0</td>\n",
       "      <td>1150.0</td>\n",
       "      <td>7.0</td>\n",
       "      <td>2.0</td>\n",
       "      <td>7.0</td>\n",
       "      <td>1.0</td>\n",
       "      <td>0.0</td>\n",
       "      <td>0.0</td>\n",
       "      <td>1.0</td>\n",
       "    </tr>\n",
       "    <tr>\n",
       "      <th>1943</th>\n",
       "      <td>719.0</td>\n",
       "      <td>0.0</td>\n",
       "      <td>2.9</td>\n",
       "      <td>0.0</td>\n",
       "      <td>7.0</td>\n",
       "      <td>0.0</td>\n",
       "      <td>6.0</td>\n",
       "      <td>0.7</td>\n",
       "      <td>102.0</td>\n",
       "      <td>6.0</td>\n",
       "      <td>...</td>\n",
       "      <td>405.0</td>\n",
       "      <td>1141.0</td>\n",
       "      <td>841.0</td>\n",
       "      <td>9.0</td>\n",
       "      <td>1.0</td>\n",
       "      <td>2.0</td>\n",
       "      <td>1.0</td>\n",
       "      <td>0.0</td>\n",
       "      <td>0.0</td>\n",
       "      <td>0.0</td>\n",
       "    </tr>\n",
       "    <tr>\n",
       "      <th>1944</th>\n",
       "      <td>544.0</td>\n",
       "      <td>1.0</td>\n",
       "      <td>0.5</td>\n",
       "      <td>1.0</td>\n",
       "      <td>2.0</td>\n",
       "      <td>1.0</td>\n",
       "      <td>7.0</td>\n",
       "      <td>0.2</td>\n",
       "      <td>129.0</td>\n",
       "      <td>5.0</td>\n",
       "      <td>...</td>\n",
       "      <td>227.0</td>\n",
       "      <td>610.0</td>\n",
       "      <td>1675.0</td>\n",
       "      <td>13.0</td>\n",
       "      <td>4.0</td>\n",
       "      <td>17.0</td>\n",
       "      <td>1.0</td>\n",
       "      <td>1.0</td>\n",
       "      <td>0.0</td>\n",
       "      <td>0.0</td>\n",
       "    </tr>\n",
       "  </tbody>\n",
       "</table>\n",
       "<p>5 rows × 21 columns</p>\n",
       "</div>"
      ],
      "text/plain": [
       "      battery_power  blue  clock_speed  dual_sim   fc  four_g  int_memory  \\\n",
       "1940            NaN   NaN          NaN       NaN  NaN     NaN         NaN   \n",
       "1941            NaN   NaN          NaN       NaN  NaN     NaN         NaN   \n",
       "1942         1279.0   1.0          2.5       0.0  5.0     1.0         7.0   \n",
       "1943          719.0   0.0          2.9       0.0  7.0     0.0         6.0   \n",
       "1944          544.0   1.0          0.5       1.0  2.0     1.0         7.0   \n",
       "\n",
       "      m_dep  mobile_wt  n_cores  ...  px_height  px_width     ram  sc_h  sc_w  \\\n",
       "1940    NaN        NaN      NaN  ...        NaN       NaN     NaN   NaN   NaN   \n",
       "1941    NaN        NaN      NaN  ...        NaN       NaN     NaN   NaN   NaN   \n",
       "1942    0.5      105.0      6.0  ...      560.0    1633.0  1150.0   7.0   2.0   \n",
       "1943    0.7      102.0      6.0  ...      405.0    1141.0   841.0   9.0   1.0   \n",
       "1944    0.2      129.0      5.0  ...      227.0     610.0  1675.0  13.0   4.0   \n",
       "\n",
       "      talk_time  three_g  touch_screen  wifi  price_range  \n",
       "1940        NaN      NaN           NaN   NaN          NaN  \n",
       "1941        NaN      NaN           NaN   NaN          NaN  \n",
       "1942        7.0      1.0           0.0   0.0          1.0  \n",
       "1943        2.0      1.0           0.0   0.0          0.0  \n",
       "1944       17.0      1.0           1.0   0.0          0.0  \n",
       "\n",
       "[5 rows x 21 columns]"
      ]
     },
     "execution_count": 7,
     "metadata": {},
     "output_type": "execute_result"
    }
   ],
   "source": [
    "df.tail()"
   ]
  },
  {
   "cell_type": "code",
   "execution_count": 8,
   "id": "c60fe04d",
   "metadata": {},
   "outputs": [
    {
     "data": {
      "text/plain": [
       "<Axes: >"
      ]
     },
     "execution_count": 8,
     "metadata": {},
     "output_type": "execute_result"
    },
    {
     "data": {
      "image/png": "[encoded data removed]",
      "text/plain": [
       "<Figure size 1440x1440 with 2 Axes>"
      ]
     },
     "metadata": {
      "needs_background": "light"
     },
     "output_type": "display_data"
    }
   ],
   "source": [
    "import seaborn as sns\n",
    "import matplotlib.pyplot as plt\n",
    "plt.subplots(figsize=(20,20))\n",
    "sns.heatmap(df.corr(),annot=True)"
   ]
  },
  {
   "cell_type": "code",
   "execution_count": 9,
   "id": "301ca6d4",
   "metadata": {},
   "outputs": [
    {
     "data": {
      "text/plain": [
       "<Axes: >"
      ]
     },
     "execution_count": 9,
     "metadata": {},
     "output_type": "execute_result"
    },
    {
     "data": {
      "image/png": "[encoded data removed]",
      "text/plain": [
       "<Figure size 1080x1440 with 1 Axes>"
      ]
     },
     "metadata": {
      "needs_background": "light"
     },
     "output_type": "display_data"
    }
   ],
   "source": [
    "df.boxplot(figsize=(15,20))"
   ]
  },
  {
   "cell_type": "code",
   "execution_count": 10,
   "id": "f136064e",
   "metadata": {},
   "outputs": [
    {
     "data": {
      "text/plain": [
       "(nan, nan)"
      ]
     },
     "execution_count": 10,
     "metadata": {},
     "output_type": "execute_result"
    }
   ],
   "source": [
    "q1,q3=np.percentile(df,[25,75])\n",
    "q1,q3"
   ]
  },
  {
   "cell_type": "code",
   "execution_count": 11,
   "id": "01d518c2",
   "metadata": {},
   "outputs": [
    {
     "data": {
      "text/plain": [
       "nan"
      ]
     },
     "execution_count": 11,
     "metadata": {},
     "output_type": "execute_result"
    }
   ],
   "source": [
    "iqr=q3-q1\n",
    "iqr"
   ]
  },
  {
   "cell_type": "code",
   "execution_count": 12,
   "id": "764538e9",
   "metadata": {},
   "outputs": [
    {
     "data": {
      "text/plain": [
       "nan"
      ]
     },
     "execution_count": 12,
     "metadata": {},
     "output_type": "execute_result"
    }
   ],
   "source": [
    "ul=q3+1.5*iqr\n",
    "ll=q1-1.5*iqr\n",
    "ul\n"
   ]
  },
  {
   "cell_type": "code",
   "execution_count": 13,
   "id": "abbf989e",
   "metadata": {},
   "outputs": [],
   "source": [
    "ul=df[df>ul]\n",
    "ll=df[df<ll]"
   ]
  },
  {
   "cell_type": "code",
   "execution_count": 14,
   "id": "2fa145ed",
   "metadata": {},
   "outputs": [
    {
     "data": {
      "text/plain": [
       "<Axes: >"
      ]
     },
     "execution_count": 14,
     "metadata": {},
     "output_type": "execute_result"
    },
    {
     "data": {
      "image/png": "[encoded data removed]",
      "text/plain": [
       "<Figure size 1080x1440 with 1 Axes>"
      ]
     },
     "metadata": {
      "needs_background": "light"
     },
     "output_type": "display_data"
    }
   ],
   "source": [
    "df.boxplot(figsize=(15,20))"
   ]
  },
  {
   "cell_type": "code",
   "execution_count": 15,
   "id": "65a314e0",
   "metadata": {},
   "outputs": [
    {
     "data": {
      "text/html": [
       "<div>\n",
       "<style scoped>\n",
       "    .dataframe tbody tr th:only-of-type {\n",
       "        vertical-align: middle;\n",
       "    }\n",
       "\n",
       "    .dataframe tbody tr th {\n",
       "        vertical-align: top;\n",
       "    }\n",
       "\n",
       "    .dataframe thead th {\n",
       "        text-align: right;\n",
       "    }\n",
       "</style>\n",
       "<table border=\"1\" class=\"dataframe\">\n",
       "  <thead>\n",
       "    <tr style=\"text-align: right;\">\n",
       "      <th></th>\n",
       "      <th>battery_power</th>\n",
       "      <th>blue</th>\n",
       "      <th>clock_speed</th>\n",
       "      <th>dual_sim</th>\n",
       "      <th>fc</th>\n",
       "      <th>four_g</th>\n",
       "      <th>int_memory</th>\n",
       "      <th>m_dep</th>\n",
       "      <th>mobile_wt</th>\n",
       "      <th>n_cores</th>\n",
       "      <th>...</th>\n",
       "      <th>px_height</th>\n",
       "      <th>px_width</th>\n",
       "      <th>ram</th>\n",
       "      <th>sc_h</th>\n",
       "      <th>sc_w</th>\n",
       "      <th>talk_time</th>\n",
       "      <th>three_g</th>\n",
       "      <th>touch_screen</th>\n",
       "      <th>wifi</th>\n",
       "      <th>price_range</th>\n",
       "    </tr>\n",
       "  </thead>\n",
       "  <tbody>\n",
       "    <tr>\n",
       "      <th>0</th>\n",
       "      <td>842.0</td>\n",
       "      <td>0.0</td>\n",
       "      <td>2.2</td>\n",
       "      <td>0.0</td>\n",
       "      <td>1.0</td>\n",
       "      <td>0.0</td>\n",
       "      <td>7.0</td>\n",
       "      <td>0.6</td>\n",
       "      <td>188.0</td>\n",
       "      <td>2.0</td>\n",
       "      <td>...</td>\n",
       "      <td>20.0</td>\n",
       "      <td>756.0</td>\n",
       "      <td>2549.0</td>\n",
       "      <td>9.0</td>\n",
       "      <td>7.0</td>\n",
       "      <td>19.0</td>\n",
       "      <td>0.0</td>\n",
       "      <td>0.0</td>\n",
       "      <td>1.0</td>\n",
       "      <td>1.0</td>\n",
       "    </tr>\n",
       "    <tr>\n",
       "      <th>1</th>\n",
       "      <td>1021.0</td>\n",
       "      <td>1.0</td>\n",
       "      <td>0.5</td>\n",
       "      <td>1.0</td>\n",
       "      <td>0.0</td>\n",
       "      <td>1.0</td>\n",
       "      <td>53.0</td>\n",
       "      <td>0.7</td>\n",
       "      <td>136.0</td>\n",
       "      <td>3.0</td>\n",
       "      <td>...</td>\n",
       "      <td>905.0</td>\n",
       "      <td>1988.0</td>\n",
       "      <td>2631.0</td>\n",
       "      <td>17.0</td>\n",
       "      <td>3.0</td>\n",
       "      <td>7.0</td>\n",
       "      <td>1.0</td>\n",
       "      <td>1.0</td>\n",
       "      <td>0.0</td>\n",
       "      <td>2.0</td>\n",
       "    </tr>\n",
       "    <tr>\n",
       "      <th>2</th>\n",
       "      <td>563.0</td>\n",
       "      <td>1.0</td>\n",
       "      <td>0.5</td>\n",
       "      <td>1.0</td>\n",
       "      <td>2.0</td>\n",
       "      <td>1.0</td>\n",
       "      <td>41.0</td>\n",
       "      <td>0.9</td>\n",
       "      <td>145.0</td>\n",
       "      <td>5.0</td>\n",
       "      <td>...</td>\n",
       "      <td>1263.0</td>\n",
       "      <td>1716.0</td>\n",
       "      <td>2603.0</td>\n",
       "      <td>11.0</td>\n",
       "      <td>2.0</td>\n",
       "      <td>9.0</td>\n",
       "      <td>1.0</td>\n",
       "      <td>1.0</td>\n",
       "      <td>0.0</td>\n",
       "      <td>2.0</td>\n",
       "    </tr>\n",
       "    <tr>\n",
       "      <th>3</th>\n",
       "      <td>615.0</td>\n",
       "      <td>1.0</td>\n",
       "      <td>2.5</td>\n",
       "      <td>0.0</td>\n",
       "      <td>0.0</td>\n",
       "      <td>0.0</td>\n",
       "      <td>10.0</td>\n",
       "      <td>0.8</td>\n",
       "      <td>131.0</td>\n",
       "      <td>6.0</td>\n",
       "      <td>...</td>\n",
       "      <td>1216.0</td>\n",
       "      <td>1786.0</td>\n",
       "      <td>2769.0</td>\n",
       "      <td>16.0</td>\n",
       "      <td>8.0</td>\n",
       "      <td>11.0</td>\n",
       "      <td>1.0</td>\n",
       "      <td>0.0</td>\n",
       "      <td>0.0</td>\n",
       "      <td>2.0</td>\n",
       "    </tr>\n",
       "    <tr>\n",
       "      <th>4</th>\n",
       "      <td>1821.0</td>\n",
       "      <td>1.0</td>\n",
       "      <td>1.2</td>\n",
       "      <td>0.0</td>\n",
       "      <td>13.0</td>\n",
       "      <td>1.0</td>\n",
       "      <td>44.0</td>\n",
       "      <td>0.6</td>\n",
       "      <td>141.0</td>\n",
       "      <td>2.0</td>\n",
       "      <td>...</td>\n",
       "      <td>1208.0</td>\n",
       "      <td>1212.0</td>\n",
       "      <td>1411.0</td>\n",
       "      <td>8.0</td>\n",
       "      <td>2.0</td>\n",
       "      <td>15.0</td>\n",
       "      <td>1.0</td>\n",
       "      <td>1.0</td>\n",
       "      <td>0.0</td>\n",
       "      <td>1.0</td>\n",
       "    </tr>\n",
       "    <tr>\n",
       "      <th>...</th>\n",
       "      <td>...</td>\n",
       "      <td>...</td>\n",
       "      <td>...</td>\n",
       "      <td>...</td>\n",
       "      <td>...</td>\n",
       "      <td>...</td>\n",
       "      <td>...</td>\n",
       "      <td>...</td>\n",
       "      <td>...</td>\n",
       "      <td>...</td>\n",
       "      <td>...</td>\n",
       "      <td>...</td>\n",
       "      <td>...</td>\n",
       "      <td>...</td>\n",
       "      <td>...</td>\n",
       "      <td>...</td>\n",
       "      <td>...</td>\n",
       "      <td>...</td>\n",
       "      <td>...</td>\n",
       "      <td>...</td>\n",
       "      <td>...</td>\n",
       "    </tr>\n",
       "    <tr>\n",
       "      <th>1940</th>\n",
       "      <td>NaN</td>\n",
       "      <td>NaN</td>\n",
       "      <td>NaN</td>\n",
       "      <td>NaN</td>\n",
       "      <td>NaN</td>\n",
       "      <td>NaN</td>\n",
       "      <td>NaN</td>\n",
       "      <td>NaN</td>\n",
       "      <td>NaN</td>\n",
       "      <td>NaN</td>\n",
       "      <td>...</td>\n",
       "      <td>NaN</td>\n",
       "      <td>NaN</td>\n",
       "      <td>NaN</td>\n",
       "      <td>NaN</td>\n",
       "      <td>NaN</td>\n",
       "      <td>NaN</td>\n",
       "      <td>NaN</td>\n",
       "      <td>NaN</td>\n",
       "      <td>NaN</td>\n",
       "      <td>NaN</td>\n",
       "    </tr>\n",
       "    <tr>\n",
       "      <th>1941</th>\n",
       "      <td>NaN</td>\n",
       "      <td>NaN</td>\n",
       "      <td>NaN</td>\n",
       "      <td>NaN</td>\n",
       "      <td>NaN</td>\n",
       "      <td>NaN</td>\n",
       "      <td>NaN</td>\n",
       "      <td>NaN</td>\n",
       "      <td>NaN</td>\n",
       "      <td>NaN</td>\n",
       "      <td>...</td>\n",
       "      <td>NaN</td>\n",
       "      <td>NaN</td>\n",
       "      <td>NaN</td>\n",
       "      <td>NaN</td>\n",
       "      <td>NaN</td>\n",
       "      <td>NaN</td>\n",
       "      <td>NaN</td>\n",
       "      <td>NaN</td>\n",
       "      <td>NaN</td>\n",
       "      <td>NaN</td>\n",
       "    </tr>\n",
       "    <tr>\n",
       "      <th>1942</th>\n",
       "      <td>1279.0</td>\n",
       "      <td>1.0</td>\n",
       "      <td>2.5</td>\n",
       "      <td>0.0</td>\n",
       "      <td>5.0</td>\n",
       "      <td>1.0</td>\n",
       "      <td>7.0</td>\n",
       "      <td>0.5</td>\n",
       "      <td>105.0</td>\n",
       "      <td>6.0</td>\n",
       "      <td>...</td>\n",
       "      <td>560.0</td>\n",
       "      <td>1633.0</td>\n",
       "      <td>1150.0</td>\n",
       "      <td>7.0</td>\n",
       "      <td>2.0</td>\n",
       "      <td>7.0</td>\n",
       "      <td>1.0</td>\n",
       "      <td>0.0</td>\n",
       "      <td>0.0</td>\n",
       "      <td>1.0</td>\n",
       "    </tr>\n",
       "    <tr>\n",
       "      <th>1943</th>\n",
       "      <td>719.0</td>\n",
       "      <td>0.0</td>\n",
       "      <td>2.9</td>\n",
       "      <td>0.0</td>\n",
       "      <td>7.0</td>\n",
       "      <td>0.0</td>\n",
       "      <td>6.0</td>\n",
       "      <td>0.7</td>\n",
       "      <td>102.0</td>\n",
       "      <td>6.0</td>\n",
       "      <td>...</td>\n",
       "      <td>405.0</td>\n",
       "      <td>1141.0</td>\n",
       "      <td>841.0</td>\n",
       "      <td>9.0</td>\n",
       "      <td>1.0</td>\n",
       "      <td>2.0</td>\n",
       "      <td>1.0</td>\n",
       "      <td>0.0</td>\n",
       "      <td>0.0</td>\n",
       "      <td>0.0</td>\n",
       "    </tr>\n",
       "    <tr>\n",
       "      <th>1944</th>\n",
       "      <td>544.0</td>\n",
       "      <td>1.0</td>\n",
       "      <td>0.5</td>\n",
       "      <td>1.0</td>\n",
       "      <td>2.0</td>\n",
       "      <td>1.0</td>\n",
       "      <td>7.0</td>\n",
       "      <td>0.2</td>\n",
       "      <td>129.0</td>\n",
       "      <td>5.0</td>\n",
       "      <td>...</td>\n",
       "      <td>227.0</td>\n",
       "      <td>610.0</td>\n",
       "      <td>1675.0</td>\n",
       "      <td>13.0</td>\n",
       "      <td>4.0</td>\n",
       "      <td>17.0</td>\n",
       "      <td>1.0</td>\n",
       "      <td>1.0</td>\n",
       "      <td>0.0</td>\n",
       "      <td>0.0</td>\n",
       "    </tr>\n",
       "  </tbody>\n",
       "</table>\n",
       "<p>1945 rows × 21 columns</p>\n",
       "</div>"
      ],
      "text/plain": [
       "      battery_power  blue  clock_speed  dual_sim    fc  four_g  int_memory  \\\n",
       "0             842.0   0.0          2.2       0.0   1.0     0.0         7.0   \n",
       "1            1021.0   1.0          0.5       1.0   0.0     1.0        53.0   \n",
       "2             563.0   1.0          0.5       1.0   2.0     1.0        41.0   \n",
       "3             615.0   1.0          2.5       0.0   0.0     0.0        10.0   \n",
       "4            1821.0   1.0          1.2       0.0  13.0     1.0        44.0   \n",
       "...             ...   ...          ...       ...   ...     ...         ...   \n",
       "1940            NaN   NaN          NaN       NaN   NaN     NaN         NaN   \n",
       "1941            NaN   NaN          NaN       NaN   NaN     NaN         NaN   \n",
       "1942         1279.0   1.0          2.5       0.0   5.0     1.0         7.0   \n",
       "1943          719.0   0.0          2.9       0.0   7.0     0.0         6.0   \n",
       "1944          544.0   1.0          0.5       1.0   2.0     1.0         7.0   \n",
       "\n",
       "      m_dep  mobile_wt  n_cores  ...  px_height  px_width     ram  sc_h  sc_w  \\\n",
       "0       0.6      188.0      2.0  ...       20.0     756.0  2549.0   9.0   7.0   \n",
       "1       0.7      136.0      3.0  ...      905.0    1988.0  2631.0  17.0   3.0   \n",
       "2       0.9      145.0      5.0  ...     1263.0    1716.0  2603.0  11.0   2.0   \n",
       "3       0.8      131.0      6.0  ...     1216.0    1786.0  2769.0  16.0   8.0   \n",
       "4       0.6      141.0      2.0  ...     1208.0    1212.0  1411.0   8.0   2.0   \n",
       "...     ...        ...      ...  ...        ...       ...     ...   ...   ...   \n",
       "1940    NaN        NaN      NaN  ...        NaN       NaN     NaN   NaN   NaN   \n",
       "1941    NaN        NaN      NaN  ...        NaN       NaN     NaN   NaN   NaN   \n",
       "1942    0.5      105.0      6.0  ...      560.0    1633.0  1150.0   7.0   2.0   \n",
       "1943    0.7      102.0      6.0  ...      405.0    1141.0   841.0   9.0   1.0   \n",
       "1944    0.2      129.0      5.0  ...      227.0     610.0  1675.0  13.0   4.0   \n",
       "\n",
       "      talk_time  three_g  touch_screen  wifi  price_range  \n",
       "0          19.0      0.0           0.0   1.0          1.0  \n",
       "1           7.0      1.0           1.0   0.0          2.0  \n",
       "2           9.0      1.0           1.0   0.0          2.0  \n",
       "3          11.0      1.0           0.0   0.0          2.0  \n",
       "4          15.0      1.0           1.0   0.0          1.0  \n",
       "...         ...      ...           ...   ...          ...  \n",
       "1940        NaN      NaN           NaN   NaN          NaN  \n",
       "1941        NaN      NaN           NaN   NaN          NaN  \n",
       "1942        7.0      1.0           0.0   0.0          1.0  \n",
       "1943        2.0      1.0           0.0   0.0          0.0  \n",
       "1944       17.0      1.0           1.0   0.0          0.0  \n",
       "\n",
       "[1945 rows x 21 columns]"
      ]
     },
     "execution_count": 15,
     "metadata": {},
     "output_type": "execute_result"
    }
   ],
   "source": [
    "df"
   ]
  },
  {
   "cell_type": "code",
   "execution_count": 16,
   "id": "42010e7b",
   "metadata": {},
   "outputs": [
    {
     "data": {
      "text/plain": [
       "price_range\n",
       "0.0    485\n",
       "1.0    483\n",
       "3.0    479\n",
       "2.0    438\n",
       "Name: count, dtype: int64"
      ]
     },
     "execution_count": 16,
     "metadata": {},
     "output_type": "execute_result"
    }
   ],
   "source": [
    "df['price_range'].value_counts()"
   ]
  },
  {
   "cell_type": "code",
   "execution_count": 17,
   "id": "952ef44d",
   "metadata": {},
   "outputs": [
    {
     "data": {
      "text/plain": [
       "battery_power    60\n",
       "blue             60\n",
       "clock_speed      60\n",
       "dual_sim         60\n",
       "fc               60\n",
       "four_g           60\n",
       "int_memory       60\n",
       "m_dep            60\n",
       "mobile_wt        60\n",
       "n_cores          60\n",
       "pc               60\n",
       "px_height        60\n",
       "px_width         60\n",
       "ram              60\n",
       "sc_h             60\n",
       "sc_w             60\n",
       "talk_time        60\n",
       "three_g          60\n",
       "touch_screen     60\n",
       "wifi             60\n",
       "price_range      60\n",
       "dtype: int64"
      ]
     },
     "execution_count": 17,
     "metadata": {},
     "output_type": "execute_result"
    }
   ],
   "source": [
    "df.isnull().sum()"
   ]
  },
  {
   "cell_type": "code",
   "execution_count": 18,
   "id": "68aca907",
   "metadata": {},
   "outputs": [],
   "source": [
    "df=df.dropna()"
   ]
  },
  {
   "cell_type": "code",
   "execution_count": null,
   "id": "55d2dab0",
   "metadata": {},
   "outputs": [],
   "source": []
  },
  {
   "cell_type": "code",
   "execution_count": 19,
   "id": "264d0047",
   "metadata": {},
   "outputs": [
    {
     "data": {
      "text/html": [
       "<div>\n",
       "<style scoped>\n",
       "    .dataframe tbody tr th:only-of-type {\n",
       "        vertical-align: middle;\n",
       "    }\n",
       "\n",
       "    .dataframe tbody tr th {\n",
       "        vertical-align: top;\n",
       "    }\n",
       "\n",
       "    .dataframe thead th {\n",
       "        text-align: right;\n",
       "    }\n",
       "</style>\n",
       "<table border=\"1\" class=\"dataframe\">\n",
       "  <thead>\n",
       "    <tr style=\"text-align: right;\">\n",
       "      <th></th>\n",
       "      <th>battery_power</th>\n",
       "      <th>blue</th>\n",
       "      <th>clock_speed</th>\n",
       "      <th>dual_sim</th>\n",
       "      <th>fc</th>\n",
       "      <th>four_g</th>\n",
       "      <th>int_memory</th>\n",
       "      <th>m_dep</th>\n",
       "      <th>mobile_wt</th>\n",
       "      <th>n_cores</th>\n",
       "      <th>...</th>\n",
       "      <th>px_height</th>\n",
       "      <th>px_width</th>\n",
       "      <th>ram</th>\n",
       "      <th>sc_h</th>\n",
       "      <th>sc_w</th>\n",
       "      <th>talk_time</th>\n",
       "      <th>three_g</th>\n",
       "      <th>touch_screen</th>\n",
       "      <th>wifi</th>\n",
       "      <th>price_range</th>\n",
       "    </tr>\n",
       "  </thead>\n",
       "  <tbody>\n",
       "    <tr>\n",
       "      <th>0</th>\n",
       "      <td>842.0</td>\n",
       "      <td>0.0</td>\n",
       "      <td>2.2</td>\n",
       "      <td>0.0</td>\n",
       "      <td>1.0</td>\n",
       "      <td>0.0</td>\n",
       "      <td>7.0</td>\n",
       "      <td>0.6</td>\n",
       "      <td>188.0</td>\n",
       "      <td>2.0</td>\n",
       "      <td>...</td>\n",
       "      <td>20.0</td>\n",
       "      <td>756.0</td>\n",
       "      <td>2549.0</td>\n",
       "      <td>9.0</td>\n",
       "      <td>7.0</td>\n",
       "      <td>19.0</td>\n",
       "      <td>0.0</td>\n",
       "      <td>0.0</td>\n",
       "      <td>1.0</td>\n",
       "      <td>1.0</td>\n",
       "    </tr>\n",
       "    <tr>\n",
       "      <th>1</th>\n",
       "      <td>1021.0</td>\n",
       "      <td>1.0</td>\n",
       "      <td>0.5</td>\n",
       "      <td>1.0</td>\n",
       "      <td>0.0</td>\n",
       "      <td>1.0</td>\n",
       "      <td>53.0</td>\n",
       "      <td>0.7</td>\n",
       "      <td>136.0</td>\n",
       "      <td>3.0</td>\n",
       "      <td>...</td>\n",
       "      <td>905.0</td>\n",
       "      <td>1988.0</td>\n",
       "      <td>2631.0</td>\n",
       "      <td>17.0</td>\n",
       "      <td>3.0</td>\n",
       "      <td>7.0</td>\n",
       "      <td>1.0</td>\n",
       "      <td>1.0</td>\n",
       "      <td>0.0</td>\n",
       "      <td>2.0</td>\n",
       "    </tr>\n",
       "    <tr>\n",
       "      <th>2</th>\n",
       "      <td>563.0</td>\n",
       "      <td>1.0</td>\n",
       "      <td>0.5</td>\n",
       "      <td>1.0</td>\n",
       "      <td>2.0</td>\n",
       "      <td>1.0</td>\n",
       "      <td>41.0</td>\n",
       "      <td>0.9</td>\n",
       "      <td>145.0</td>\n",
       "      <td>5.0</td>\n",
       "      <td>...</td>\n",
       "      <td>1263.0</td>\n",
       "      <td>1716.0</td>\n",
       "      <td>2603.0</td>\n",
       "      <td>11.0</td>\n",
       "      <td>2.0</td>\n",
       "      <td>9.0</td>\n",
       "      <td>1.0</td>\n",
       "      <td>1.0</td>\n",
       "      <td>0.0</td>\n",
       "      <td>2.0</td>\n",
       "    </tr>\n",
       "    <tr>\n",
       "      <th>3</th>\n",
       "      <td>615.0</td>\n",
       "      <td>1.0</td>\n",
       "      <td>2.5</td>\n",
       "      <td>0.0</td>\n",
       "      <td>0.0</td>\n",
       "      <td>0.0</td>\n",
       "      <td>10.0</td>\n",
       "      <td>0.8</td>\n",
       "      <td>131.0</td>\n",
       "      <td>6.0</td>\n",
       "      <td>...</td>\n",
       "      <td>1216.0</td>\n",
       "      <td>1786.0</td>\n",
       "      <td>2769.0</td>\n",
       "      <td>16.0</td>\n",
       "      <td>8.0</td>\n",
       "      <td>11.0</td>\n",
       "      <td>1.0</td>\n",
       "      <td>0.0</td>\n",
       "      <td>0.0</td>\n",
       "      <td>2.0</td>\n",
       "    </tr>\n",
       "    <tr>\n",
       "      <th>4</th>\n",
       "      <td>1821.0</td>\n",
       "      <td>1.0</td>\n",
       "      <td>1.2</td>\n",
       "      <td>0.0</td>\n",
       "      <td>13.0</td>\n",
       "      <td>1.0</td>\n",
       "      <td>44.0</td>\n",
       "      <td>0.6</td>\n",
       "      <td>141.0</td>\n",
       "      <td>2.0</td>\n",
       "      <td>...</td>\n",
       "      <td>1208.0</td>\n",
       "      <td>1212.0</td>\n",
       "      <td>1411.0</td>\n",
       "      <td>8.0</td>\n",
       "      <td>2.0</td>\n",
       "      <td>15.0</td>\n",
       "      <td>1.0</td>\n",
       "      <td>1.0</td>\n",
       "      <td>0.0</td>\n",
       "      <td>1.0</td>\n",
       "    </tr>\n",
       "    <tr>\n",
       "      <th>...</th>\n",
       "      <td>...</td>\n",
       "      <td>...</td>\n",
       "      <td>...</td>\n",
       "      <td>...</td>\n",
       "      <td>...</td>\n",
       "      <td>...</td>\n",
       "      <td>...</td>\n",
       "      <td>...</td>\n",
       "      <td>...</td>\n",
       "      <td>...</td>\n",
       "      <td>...</td>\n",
       "      <td>...</td>\n",
       "      <td>...</td>\n",
       "      <td>...</td>\n",
       "      <td>...</td>\n",
       "      <td>...</td>\n",
       "      <td>...</td>\n",
       "      <td>...</td>\n",
       "      <td>...</td>\n",
       "      <td>...</td>\n",
       "      <td>...</td>\n",
       "    </tr>\n",
       "    <tr>\n",
       "      <th>1933</th>\n",
       "      <td>897.0</td>\n",
       "      <td>1.0</td>\n",
       "      <td>2.0</td>\n",
       "      <td>0.0</td>\n",
       "      <td>3.0</td>\n",
       "      <td>1.0</td>\n",
       "      <td>2.0</td>\n",
       "      <td>0.6</td>\n",
       "      <td>154.0</td>\n",
       "      <td>8.0</td>\n",
       "      <td>...</td>\n",
       "      <td>0.0</td>\n",
       "      <td>994.0</td>\n",
       "      <td>1958.0</td>\n",
       "      <td>7.0</td>\n",
       "      <td>5.0</td>\n",
       "      <td>7.0</td>\n",
       "      <td>1.0</td>\n",
       "      <td>1.0</td>\n",
       "      <td>0.0</td>\n",
       "      <td>1.0</td>\n",
       "    </tr>\n",
       "    <tr>\n",
       "      <th>1935</th>\n",
       "      <td>798.0</td>\n",
       "      <td>0.0</td>\n",
       "      <td>0.6</td>\n",
       "      <td>1.0</td>\n",
       "      <td>6.0</td>\n",
       "      <td>1.0</td>\n",
       "      <td>21.0</td>\n",
       "      <td>0.5</td>\n",
       "      <td>110.0</td>\n",
       "      <td>2.0</td>\n",
       "      <td>...</td>\n",
       "      <td>661.0</td>\n",
       "      <td>1951.0</td>\n",
       "      <td>1647.0</td>\n",
       "      <td>12.0</td>\n",
       "      <td>2.0</td>\n",
       "      <td>3.0</td>\n",
       "      <td>1.0</td>\n",
       "      <td>0.0</td>\n",
       "      <td>0.0</td>\n",
       "      <td>1.0</td>\n",
       "    </tr>\n",
       "    <tr>\n",
       "      <th>1942</th>\n",
       "      <td>1279.0</td>\n",
       "      <td>1.0</td>\n",
       "      <td>2.5</td>\n",
       "      <td>0.0</td>\n",
       "      <td>5.0</td>\n",
       "      <td>1.0</td>\n",
       "      <td>7.0</td>\n",
       "      <td>0.5</td>\n",
       "      <td>105.0</td>\n",
       "      <td>6.0</td>\n",
       "      <td>...</td>\n",
       "      <td>560.0</td>\n",
       "      <td>1633.0</td>\n",
       "      <td>1150.0</td>\n",
       "      <td>7.0</td>\n",
       "      <td>2.0</td>\n",
       "      <td>7.0</td>\n",
       "      <td>1.0</td>\n",
       "      <td>0.0</td>\n",
       "      <td>0.0</td>\n",
       "      <td>1.0</td>\n",
       "    </tr>\n",
       "    <tr>\n",
       "      <th>1943</th>\n",
       "      <td>719.0</td>\n",
       "      <td>0.0</td>\n",
       "      <td>2.9</td>\n",
       "      <td>0.0</td>\n",
       "      <td>7.0</td>\n",
       "      <td>0.0</td>\n",
       "      <td>6.0</td>\n",
       "      <td>0.7</td>\n",
       "      <td>102.0</td>\n",
       "      <td>6.0</td>\n",
       "      <td>...</td>\n",
       "      <td>405.0</td>\n",
       "      <td>1141.0</td>\n",
       "      <td>841.0</td>\n",
       "      <td>9.0</td>\n",
       "      <td>1.0</td>\n",
       "      <td>2.0</td>\n",
       "      <td>1.0</td>\n",
       "      <td>0.0</td>\n",
       "      <td>0.0</td>\n",
       "      <td>0.0</td>\n",
       "    </tr>\n",
       "    <tr>\n",
       "      <th>1944</th>\n",
       "      <td>544.0</td>\n",
       "      <td>1.0</td>\n",
       "      <td>0.5</td>\n",
       "      <td>1.0</td>\n",
       "      <td>2.0</td>\n",
       "      <td>1.0</td>\n",
       "      <td>7.0</td>\n",
       "      <td>0.2</td>\n",
       "      <td>129.0</td>\n",
       "      <td>5.0</td>\n",
       "      <td>...</td>\n",
       "      <td>227.0</td>\n",
       "      <td>610.0</td>\n",
       "      <td>1675.0</td>\n",
       "      <td>13.0</td>\n",
       "      <td>4.0</td>\n",
       "      <td>17.0</td>\n",
       "      <td>1.0</td>\n",
       "      <td>1.0</td>\n",
       "      <td>0.0</td>\n",
       "      <td>0.0</td>\n",
       "    </tr>\n",
       "  </tbody>\n",
       "</table>\n",
       "<p>1885 rows × 21 columns</p>\n",
       "</div>"
      ],
      "text/plain": [
       "      battery_power  blue  clock_speed  dual_sim    fc  four_g  int_memory  \\\n",
       "0             842.0   0.0          2.2       0.0   1.0     0.0         7.0   \n",
       "1            1021.0   1.0          0.5       1.0   0.0     1.0        53.0   \n",
       "2             563.0   1.0          0.5       1.0   2.0     1.0        41.0   \n",
       "3             615.0   1.0          2.5       0.0   0.0     0.0        10.0   \n",
       "4            1821.0   1.0          1.2       0.0  13.0     1.0        44.0   \n",
       "...             ...   ...          ...       ...   ...     ...         ...   \n",
       "1933          897.0   1.0          2.0       0.0   3.0     1.0         2.0   \n",
       "1935          798.0   0.0          0.6       1.0   6.0     1.0        21.0   \n",
       "1942         1279.0   1.0          2.5       0.0   5.0     1.0         7.0   \n",
       "1943          719.0   0.0          2.9       0.0   7.0     0.0         6.0   \n",
       "1944          544.0   1.0          0.5       1.0   2.0     1.0         7.0   \n",
       "\n",
       "      m_dep  mobile_wt  n_cores  ...  px_height  px_width     ram  sc_h  sc_w  \\\n",
       "0       0.6      188.0      2.0  ...       20.0     756.0  2549.0   9.0   7.0   \n",
       "1       0.7      136.0      3.0  ...      905.0    1988.0  2631.0  17.0   3.0   \n",
       "2       0.9      145.0      5.0  ...     1263.0    1716.0  2603.0  11.0   2.0   \n",
       "3       0.8      131.0      6.0  ...     1216.0    1786.0  2769.0  16.0   8.0   \n",
       "4       0.6      141.0      2.0  ...     1208.0    1212.0  1411.0   8.0   2.0   \n",
       "...     ...        ...      ...  ...        ...       ...     ...   ...   ...   \n",
       "1933    0.6      154.0      8.0  ...        0.0     994.0  1958.0   7.0   5.0   \n",
       "1935    0.5      110.0      2.0  ...      661.0    1951.0  1647.0  12.0   2.0   \n",
       "1942    0.5      105.0      6.0  ...      560.0    1633.0  1150.0   7.0   2.0   \n",
       "1943    0.7      102.0      6.0  ...      405.0    1141.0   841.0   9.0   1.0   \n",
       "1944    0.2      129.0      5.0  ...      227.0     610.0  1675.0  13.0   4.0   \n",
       "\n",
       "      talk_time  three_g  touch_screen  wifi  price_range  \n",
       "0          19.0      0.0           0.0   1.0          1.0  \n",
       "1           7.0      1.0           1.0   0.0          2.0  \n",
       "2           9.0      1.0           1.0   0.0          2.0  \n",
       "3          11.0      1.0           0.0   0.0          2.0  \n",
       "4          15.0      1.0           1.0   0.0          1.0  \n",
       "...         ...      ...           ...   ...          ...  \n",
       "1933        7.0      1.0           1.0   0.0          1.0  \n",
       "1935        3.0      1.0           0.0   0.0          1.0  \n",
       "1942        7.0      1.0           0.0   0.0          1.0  \n",
       "1943        2.0      1.0           0.0   0.0          0.0  \n",
       "1944       17.0      1.0           1.0   0.0          0.0  \n",
       "\n",
       "[1885 rows x 21 columns]"
      ]
     },
     "execution_count": 19,
     "metadata": {},
     "output_type": "execute_result"
    }
   ],
   "source": [
    "df"
   ]
  },
  {
   "cell_type": "code",
   "execution_count": 20,
   "id": "498e79f6",
   "metadata": {},
   "outputs": [],
   "source": [
    "x=df.drop(['price_range'],axis=1)\n",
    "y=df['price_range']"
   ]
  },
  {
   "cell_type": "code",
   "execution_count": 21,
   "id": "098d1c0f",
   "metadata": {},
   "outputs": [],
   "source": [
    "from sklearn.model_selection import train_test_split\n",
    "x_train,x_test,y_train,y_test=train_test_split(x,y,random_state=True)"
   ]
  },
  {
   "cell_type": "code",
   "execution_count": 22,
   "id": "07acc9a0",
   "metadata": {},
   "outputs": [],
   "source": [
    "from sklearn.preprocessing import StandardScaler\n",
    "st=StandardScaler()"
   ]
  },
  {
   "cell_type": "code",
   "execution_count": 23,
   "id": "2b7c3c73",
   "metadata": {},
   "outputs": [],
   "source": [
    "x_train=st.fit_transform(x_train)\n",
    "x_test=st.transform(x_test)"
   ]
  },
  {
   "cell_type": "code",
   "execution_count": 24,
   "id": "4b531e75",
   "metadata": {},
   "outputs": [
    {
     "data": {
      "text/plain": [
       "array([[-0.36887405,  1.00070796,  0.58283744, ..., -1.76622012,\n",
       "        -1.01785218,  0.99084165],\n",
       "       [-1.57442023,  1.00070796,  0.82696055, ...,  0.56618084,\n",
       "        -1.01785218, -1.009243  ],\n",
       "       [ 0.45453674, -0.99929254,  0.82696055, ...,  0.56618084,\n",
       "         0.98246093,  0.99084165],\n",
       "       ...,\n",
       "       [-0.20737635, -0.99929254,  0.58283744, ...,  0.56618084,\n",
       "        -1.01785218, -1.009243  ],\n",
       "       [ 0.63195674,  1.00070796,  0.33871433, ...,  0.56618084,\n",
       "         0.98246093, -1.009243  ],\n",
       "       [ 0.62968213,  1.00070796, -1.00396276, ...,  0.56618084,\n",
       "        -1.01785218,  0.99084165]])"
      ]
     },
     "execution_count": 24,
     "metadata": {},
     "output_type": "execute_result"
    }
   ],
   "source": [
    "x_train"
   ]
  },
  {
   "cell_type": "code",
   "execution_count": 25,
   "id": "05a8df3f",
   "metadata": {},
   "outputs": [
    {
     "data": {
      "text/plain": [
       "array([[-1.35605714,  1.00070796, -0.14953188, ...,  0.56618084,\n",
       "         0.98246093, -1.009243  ],\n",
       "       [-1.26962176,  1.00070796, -0.27159344, ...,  0.56618084,\n",
       "         0.98246093, -1.009243  ],\n",
       "       [ 1.5986683 , -0.99929254,  1.55932988, ...,  0.56618084,\n",
       "        -1.01785218, -1.009243  ],\n",
       "       ...,\n",
       "       [ 1.67600523, -0.99929254, -0.51571655, ...,  0.56618084,\n",
       "         0.98246093,  0.99084165],\n",
       "       [-0.30973405, -0.99929254,  0.704899  , ...,  0.56618084,\n",
       "        -1.01785218,  0.99084165],\n",
       "       [ 0.9344806 ,  1.00070796, -1.24808587, ...,  0.56618084,\n",
       "        -1.01785218,  0.99084165]])"
      ]
     },
     "execution_count": 25,
     "metadata": {},
     "output_type": "execute_result"
    }
   ],
   "source": [
    "x_test"
   ]
  },
  {
   "cell_type": "code",
   "execution_count": 26,
   "id": "195b4732",
   "metadata": {},
   "outputs": [],
   "source": [
    "#!pip install tensorflow"
   ]
  },
  {
   "cell_type": "code",
   "execution_count": 27,
   "id": "6f7d4178",
   "metadata": {},
   "outputs": [],
   "source": [
    "from tensorflow.keras.models import Sequential\n",
    "import tensorflow as t\n",
    "from tensorflow.keras import layers,initializers"
   ]
  },
  {
   "cell_type": "code",
   "execution_count": 28,
   "id": "a1895fe0",
   "metadata": {},
   "outputs": [],
   "source": [
    "s=Sequential()"
   ]
  },
  {
   "cell_type": "code",
   "execution_count": 29,
   "id": "d27a567c",
   "metadata": {},
   "outputs": [
    {
     "data": {
      "text/plain": [
       "((1413, 20), (1413,))"
      ]
     },
     "execution_count": 29,
     "metadata": {},
     "output_type": "execute_result"
    }
   ],
   "source": [
    "x_train.shape,y_train.shape"
   ]
  },
  {
   "cell_type": "code",
   "execution_count": 30,
   "id": "6d04193a",
   "metadata": {},
   "outputs": [],
   "source": [
    "from tensorflow.keras.layers import Dense\n",
    "s.add(Dense(units=6, activation='relu', input_dim=20))  # Assuming your input shape is (batch_size, 20)\n",
    "s.add(Dense(units=4, activation='relu'))  # Adjust the number of units according to your problem\n",
    "s.add(Dense(units=4, activation='softmax'))"
   ]
  },
  {
   "cell_type": "code",
   "execution_count": 31,
   "id": "5e812fb8",
   "metadata": {},
   "outputs": [
    {
     "data": {
      "text/plain": [
       "<keras.src.engine.sequential.Sequential at 0x1f98245e2c0>"
      ]
     },
     "execution_count": 31,
     "metadata": {},
     "output_type": "execute_result"
    }
   ],
   "source": [
    "s"
   ]
  },
  {
   "cell_type": "code",
   "execution_count": 32,
   "id": "bf452499",
   "metadata": {},
   "outputs": [
    {
     "name": "stdout",
     "output_type": "stream",
     "text": [
      "Model: \"sequential\"\n",
      "_________________________________________________________________\n",
      " Layer (type)                Output Shape              Param #   \n",
      "=================================================================\n",
      " dense (Dense)               (None, 6)                 126       \n",
      "                                                                 \n",
      " dense_1 (Dense)             (None, 4)                 28        \n",
      "                                                                 \n",
      " dense_2 (Dense)             (None, 4)                 20        \n",
      "                                                                 \n",
      "=================================================================\n",
      "Total params: 174 (696.00 Byte)\n",
      "Trainable params: 174 (696.00 Byte)\n",
      "Non-trainable params: 0 (0.00 Byte)\n",
      "_________________________________________________________________\n"
     ]
    }
   ],
   "source": [
    "s.summary()"
   ]
  },
  {
   "cell_type": "code",
   "execution_count": 33,
   "id": "3ee6e53a",
   "metadata": {},
   "outputs": [],
   "source": [
    "s.compile(optimizer='RMSprop',loss='sparse_categorical_crossentropy',metrics=['accuracy'])"
   ]
  },
  {
   "cell_type": "code",
   "execution_count": 34,
   "id": "912e7441",
   "metadata": {},
   "outputs": [
    {
     "data": {
      "text/plain": [
       "<keras.src.engine.sequential.Sequential at 0x1f98245e2c0>"
      ]
     },
     "execution_count": 34,
     "metadata": {},
     "output_type": "execute_result"
    }
   ],
   "source": [
    "s"
   ]
  },
  {
   "cell_type": "code",
   "execution_count": 35,
   "id": "0552505a",
   "metadata": {},
   "outputs": [
    {
     "data": {
      "text/plain": [
       "(1413, 20)"
      ]
     },
     "execution_count": 35,
     "metadata": {},
     "output_type": "execute_result"
    }
   ],
   "source": [
    "x_train.shape"
   ]
  },
  {
   "cell_type": "code",
   "execution_count": 36,
   "id": "8435b030",
   "metadata": {},
   "outputs": [
    {
     "name": "stdout",
     "output_type": "stream",
     "text": [
      "Epoch 1/8\n",
      "29/29 [==============================] - 1s 3ms/step - loss: 1.5961 - accuracy: 0.2265\n",
      "Epoch 2/8\n",
      "29/29 [==============================] - 0s 2ms/step - loss: 1.5261 - accuracy: 0.2293\n",
      "Epoch 3/8\n",
      "29/29 [==============================] - 0s 2ms/step - loss: 1.4792 - accuracy: 0.2314\n",
      "Epoch 4/8\n",
      "29/29 [==============================] - 0s 2ms/step - loss: 1.4452 - accuracy: 0.2371\n",
      "Epoch 5/8\n",
      "29/29 [==============================] - 0s 2ms/step - loss: 1.4209 - accuracy: 0.2477\n",
      "Epoch 6/8\n",
      "29/29 [==============================] - 0s 2ms/step - loss: 1.4041 - accuracy: 0.2576\n",
      "Epoch 7/8\n",
      "29/29 [==============================] - 0s 2ms/step - loss: 1.3918 - accuracy: 0.2619\n",
      "Epoch 8/8\n",
      "29/29 [==============================] - 0s 2ms/step - loss: 1.3824 - accuracy: 0.2661\n"
     ]
    }
   ],
   "source": [
    "model=s.fit(x_train,y_train,epochs=8,batch_size=50)"
   ]
  },
  {
   "cell_type": "code",
   "execution_count": 37,
   "id": "90522540",
   "metadata": {},
   "outputs": [],
   "source": [
    "import seaborn as sns"
   ]
  },
  {
   "cell_type": "code",
   "execution_count": 38,
   "id": "f303ecb7",
   "metadata": {},
   "outputs": [
    {
     "data": {
      "text/plain": [
       "1859    0.0\n",
       "510     3.0\n",
       "1043    0.0\n",
       "868     0.0\n",
       "102     1.0\n",
       "       ... \n",
       "49      3.0\n",
       "94      1.0\n",
       "1729    3.0\n",
       "1422    2.0\n",
       "299     1.0\n",
       "Name: price_range, Length: 472, dtype: float64"
      ]
     },
     "execution_count": 38,
     "metadata": {},
     "output_type": "execute_result"
    }
   ],
   "source": [
    "y_test"
   ]
  },
  {
   "cell_type": "code",
   "execution_count": 39,
   "id": "c2745926",
   "metadata": {},
   "outputs": [],
   "source": [
    "#sns.lineplot(x=x_train,y=y_test)"
   ]
  },
  {
   "cell_type": "code",
   "execution_count": 40,
   "id": "682fb909",
   "metadata": {},
   "outputs": [
    {
     "data": {
      "text/plain": [
       "array([[-1.35605714,  1.00070796, -0.14953188, ...,  0.56618084,\n",
       "         0.98246093, -1.009243  ],\n",
       "       [-1.26962176,  1.00070796, -0.27159344, ...,  0.56618084,\n",
       "         0.98246093, -1.009243  ],\n",
       "       [ 1.5986683 , -0.99929254,  1.55932988, ...,  0.56618084,\n",
       "        -1.01785218, -1.009243  ],\n",
       "       ...,\n",
       "       [ 1.67600523, -0.99929254, -0.51571655, ...,  0.56618084,\n",
       "         0.98246093,  0.99084165],\n",
       "       [-0.30973405, -0.99929254,  0.704899  , ...,  0.56618084,\n",
       "        -1.01785218,  0.99084165],\n",
       "       [ 0.9344806 ,  1.00070796, -1.24808587, ...,  0.56618084,\n",
       "        -1.01785218,  0.99084165]])"
      ]
     },
     "execution_count": 40,
     "metadata": {},
     "output_type": "execute_result"
    }
   ],
   "source": [
    "x_test"
   ]
  },
  {
   "cell_type": "code",
   "execution_count": 41,
   "id": "b9accb40",
   "metadata": {},
   "outputs": [
    {
     "name": "stdout",
     "output_type": "stream",
     "text": [
      "15/15 [==============================] - 0s 2ms/step\n"
     ]
    }
   ],
   "source": [
    "y_pred=s.predict(x_test)"
   ]
  },
  {
   "cell_type": "code",
   "execution_count": 42,
   "id": "cb2260e7",
   "metadata": {},
   "outputs": [
    {
     "data": {
      "text/plain": [
       "array([0., 3., 0., 0., 1., 0., 3., 3., 3., 3., 3., 3., 1., 3., 3., 3., 3.,\n",
       "       3., 1., 0., 3., 1., 2., 2., 2., 2., 1., 0., 3., 3., 1., 2., 2., 1.,\n",
       "       0., 0., 2., 1., 1., 1., 2., 0., 1., 3., 1., 2., 0., 2., 2., 1., 2.,\n",
       "       0., 3., 2., 1., 0., 2., 2., 0., 3., 3., 0., 3., 1., 2., 3., 0., 2.,\n",
       "       0., 0., 1., 0., 2., 2., 3., 3., 0., 0., 1., 3., 1., 2., 3., 3., 2.,\n",
       "       2., 3., 2., 3., 1., 0., 0., 2., 0., 2., 3., 1., 3., 2., 3., 0., 2.,\n",
       "       2., 0., 3., 1., 0., 2., 2., 0., 0., 2., 1., 1., 1., 1., 0., 0., 3.,\n",
       "       2., 0., 1., 0., 3., 3., 1., 1., 1., 2., 0., 3., 2., 3., 0., 2., 2.,\n",
       "       1., 3., 1., 0., 3., 2., 3., 2., 1., 0., 2., 0., 3., 2., 2., 1., 2.,\n",
       "       3., 0., 2., 2., 2., 1., 2., 0., 1., 0., 1., 0., 1., 3., 1., 2., 3.,\n",
       "       2., 2., 0., 3., 2., 2., 0., 2., 2., 0., 2., 0., 2., 3., 1., 3., 3.,\n",
       "       3., 3., 2., 3., 2., 1., 2., 3., 1., 0., 2., 0., 3., 2., 3., 0., 0.,\n",
       "       3., 3., 3., 3., 3., 0., 1., 1., 1., 0., 3., 2., 2., 0., 1., 2., 0.,\n",
       "       2., 0., 0., 1., 1., 1., 3., 2., 1., 2., 2., 2., 0., 2., 1., 0., 2.,\n",
       "       3., 3., 0., 1., 1., 3., 3., 1., 3., 0., 0., 2., 3., 0., 0., 0., 3.,\n",
       "       3., 0., 3., 1., 0., 2., 0., 0., 2., 1., 1., 2., 1., 2., 3., 2., 1.,\n",
       "       2., 1., 0., 3., 0., 1., 2., 0., 2., 3., 1., 2., 0., 2., 0., 3., 2.,\n",
       "       0., 3., 0., 0., 3., 3., 2., 2., 1., 2., 3., 1., 2., 0., 3., 1., 0.,\n",
       "       1., 0., 0., 3., 3., 2., 0., 1., 1., 3., 1., 2., 3., 1., 1., 2., 3.,\n",
       "       1., 1., 1., 0., 0., 0., 3., 3., 1., 0., 1., 1., 0., 1., 2., 3., 2.,\n",
       "       2., 3., 2., 1., 2., 0., 3., 1., 3., 2., 3., 1., 2., 2., 2., 1., 3.,\n",
       "       1., 0., 1., 3., 2., 3., 1., 1., 1., 1., 0., 0., 2., 3., 0., 1., 0.,\n",
       "       0., 1., 1., 3., 3., 0., 3., 0., 2., 3., 1., 0., 3., 2., 2., 0., 2.,\n",
       "       0., 0., 0., 3., 1., 2., 1., 2., 0., 1., 3., 2., 3., 1., 2., 3., 0.,\n",
       "       1., 2., 2., 1., 2., 0., 3., 0., 1., 3., 3., 1., 3., 3., 3., 3., 3.,\n",
       "       3., 1., 0., 1., 2., 2., 2., 1., 2., 2., 0., 0., 0., 2., 0., 2., 2.,\n",
       "       0., 0., 2., 1., 1., 1., 0., 2., 0., 2., 2., 0., 2., 3., 2., 0., 3.,\n",
       "       1., 2., 1., 3., 0., 0., 1., 3., 3., 1., 3., 2., 1.])"
      ]
     },
     "execution_count": 42,
     "metadata": {},
     "output_type": "execute_result"
    }
   ],
   "source": [
    "y_train=np.array(y_test)\n",
    "y_train"
   ]
  },
  {
   "cell_type": "code",
   "execution_count": 43,
   "id": "59d80c5e",
   "metadata": {},
   "outputs": [
    {
     "data": {
      "text/plain": [
       "1859    0.0\n",
       "510     3.0\n",
       "1043    0.0\n",
       "868     0.0\n",
       "102     1.0\n",
       "       ... \n",
       "49      3.0\n",
       "94      1.0\n",
       "1729    3.0\n",
       "1422    2.0\n",
       "299     1.0\n",
       "Name: price_range, Length: 472, dtype: float64"
      ]
     },
     "execution_count": 43,
     "metadata": {},
     "output_type": "execute_result"
    }
   ],
   "source": [
    "y_test"
   ]
  },
  {
   "cell_type": "code",
   "execution_count": 44,
   "id": "20e32b58",
   "metadata": {},
   "outputs": [
    {
     "data": {
      "text/plain": [
       "array([[0.2632514 , 0.25826746, 0.2124213 , 0.26605988],\n",
       "       [0.26450196, 0.25364766, 0.21263129, 0.269219  ],\n",
       "       [0.30985448, 0.19151692, 0.3478368 , 0.15079185],\n",
       "       ...,\n",
       "       [0.2644697 , 0.25376764, 0.21262617, 0.26913655],\n",
       "       [0.2693353 , 0.2233856 , 0.25343853, 0.2538406 ],\n",
       "       [0.2993945 , 0.21422754, 0.3027079 , 0.1836701 ]], dtype=float32)"
      ]
     },
     "execution_count": 44,
     "metadata": {},
     "output_type": "execute_result"
    }
   ],
   "source": [
    "y_pred"
   ]
  },
  {
   "cell_type": "code",
   "execution_count": 45,
   "id": "db63ff9b",
   "metadata": {},
   "outputs": [],
   "source": [
    "y_pred_labels = np.argmax(y_pred, axis=1)"
   ]
  },
  {
   "cell_type": "code",
   "execution_count": 46,
   "id": "40a896df",
   "metadata": {},
   "outputs": [
    {
     "data": {
      "text/plain": [
       "array([3, 3, 2, 2, 3, 1, 3, 0, 0, 2, 2, 1, 3, 3, 1, 3, 1, 3, 3, 3, 3, 1,\n",
       "       3, 3, 3, 0, 3, 3, 3, 3, 2, 3, 3, 3, 3, 3, 3, 2, 0, 3, 3, 0, 3, 3,\n",
       "       0, 1, 3, 3, 0, 1, 0, 3, 2, 3, 3, 3, 3, 1, 3, 1, 3, 3, 1, 0, 0, 3,\n",
       "       3, 0, 0, 0, 3, 3, 3, 3, 0, 0, 3, 2, 3, 3, 1, 3, 3, 0, 3, 3, 3, 2,\n",
       "       2, 3, 1, 0, 0, 0, 3, 3, 3, 1, 3, 3, 3, 0, 3, 3, 3, 3, 0, 3, 0, 0,\n",
       "       3, 0, 3, 1, 3, 3, 1, 3, 0, 3, 3, 0, 1, 3, 3, 0, 0, 3, 2, 1, 3, 0,\n",
       "       0, 0, 3, 1, 3, 1, 3, 3, 3, 3, 3, 3, 3, 0, 3, 3, 1, 2, 2, 3, 3, 3,\n",
       "       0, 3, 1, 3, 3, 1, 3, 3, 3, 3, 3, 3, 0, 3, 0, 3, 1, 3, 3, 3, 3, 3,\n",
       "       3, 3, 0, 2, 3, 1, 3, 3, 1, 3, 3, 1, 3, 0, 2, 3, 3, 3, 3, 3, 3, 2,\n",
       "       1, 2, 3, 0, 3, 0, 1, 3, 0, 3, 2, 3, 3, 3, 0, 1, 1, 1, 0, 0, 3, 0,\n",
       "       3, 0, 0, 3, 3, 3, 1, 0, 3, 1, 1, 3, 3, 3, 3, 3, 3, 0, 0, 2, 2, 0,\n",
       "       0, 3, 3, 3, 2, 3, 3, 3, 3, 3, 3, 3, 0, 3, 1, 0, 0, 1, 3, 3, 1, 3,\n",
       "       1, 0, 3, 2, 3, 2, 3, 1, 1, 3, 2, 3, 3, 3, 3, 1, 1, 2, 3, 1, 3, 3,\n",
       "       3, 0, 3, 3, 3, 0, 3, 3, 3, 2, 3, 3, 2, 0, 3, 3, 3, 3, 1, 3, 1, 3,\n",
       "       3, 0, 0, 3, 3, 0, 3, 1, 0, 3, 3, 3, 3, 3, 3, 0, 3, 0, 2, 0, 3, 2,\n",
       "       3, 3, 0, 3, 1, 3, 3, 3, 1, 3, 0, 2, 0, 0, 3, 0, 3, 1, 3, 3, 3, 3,\n",
       "       3, 3, 3, 3, 3, 3, 1, 0, 3, 1, 3, 0, 3, 0, 2, 2, 1, 0, 1, 0, 3, 3,\n",
       "       3, 3, 3, 0, 3, 0, 1, 1, 1, 2, 2, 3, 3, 3, 3, 0, 3, 2, 3, 3, 2, 3,\n",
       "       3, 0, 3, 2, 3, 3, 3, 2, 3, 0, 1, 2, 3, 2, 0, 3, 3, 3, 3, 3, 3, 3,\n",
       "       1, 1, 3, 1, 3, 3, 0, 3, 0, 0, 3, 2, 3, 2, 0, 3, 0, 3, 3, 3, 2, 2,\n",
       "       1, 1, 0, 3, 0, 1, 1, 3, 0, 1, 3, 3, 2, 1, 1, 3, 0, 3, 3, 0, 3, 3,\n",
       "       3, 3, 3, 3, 0, 3, 3, 3, 0, 2], dtype=int64)"
      ]
     },
     "execution_count": 46,
     "metadata": {},
     "output_type": "execute_result"
    }
   ],
   "source": [
    "y_pred_labels"
   ]
  },
  {
   "cell_type": "code",
   "execution_count": 47,
   "id": "e02569d6",
   "metadata": {},
   "outputs": [
    {
     "data": {
      "text/plain": [
       "array([[23, 16, 12, 65],\n",
       "       [23, 16,  6, 65],\n",
       "       [26, 17, 12, 72],\n",
       "       [21, 18, 16, 64]], dtype=int64)"
      ]
     },
     "execution_count": 47,
     "metadata": {},
     "output_type": "execute_result"
    }
   ],
   "source": [
    "from sklearn.metrics import confusion_matrix,accuracy_score\n",
    "confusion_matrix(y_test,y_pred_labels)"
   ]
  },
  {
   "cell_type": "code",
   "execution_count": 48,
   "id": "17bc9611",
   "metadata": {},
   "outputs": [],
   "source": [
    "#accuracy_score(y_test,y_pred)"
   ]
  },
  {
   "cell_type": "code",
   "execution_count": 49,
   "id": "a2e9535e",
   "metadata": {},
   "outputs": [
    {
     "name": "stdout",
     "output_type": "stream",
     "text": [
      "15/15 [==============================] - 0s 2ms/step - loss: 1.3930 - accuracy: 0.2436\n"
     ]
    }
   ],
   "source": [
    "results = s.evaluate(x_test, y_test)"
   ]
  },
  {
   "cell_type": "code",
   "execution_count": null,
   "id": "1cdf0529",
   "metadata": {},
   "outputs": [],
   "source": []
  }
 ],
 "metadata": {
  "kernelspec": {
   "display_name": "Python 3 (ipykernel)",
   "language": "python",
   "name": "python3"
  },
  "language_info": {
   "codemirror_mode": {
    "name": "ipython",
    "version": 3
   },
   "file_extension": ".py",
   "mimetype": "text/x-python",
   "name": "python",
   "nbconvert_exporter": "python",
   "pygments_lexer": "ipython3",
   "version": "3.10.4"
  }
 },
 "nbformat": 4,
 "nbformat_minor": 5
}
